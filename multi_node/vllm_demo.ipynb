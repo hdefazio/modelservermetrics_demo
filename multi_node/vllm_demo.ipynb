{
 "cells": [
  {
   "cell_type": "code",
   "execution_count": 2,
   "id": "24d5870a-b1b8-451b-b1d7-9a7ea3cdc8be",
   "metadata": {
    "scrolled": true
   },
   "outputs": [
    {
     "name": "stdout",
     "output_type": "stream",
     "text": [
      "Requirement already satisfied: kserve in /opt/app-root/lib64/python3.11/site-packages (0.15.2)\n",
      "Requirement already satisfied: cloudevents<2.0.0,>=1.6.2 in /opt/app-root/lib64/python3.11/site-packages (from kserve) (1.12.0)\n",
      "Requirement already satisfied: fastapi>=0.115.3 in /opt/app-root/lib64/python3.11/site-packages (from kserve) (0.115.14)\n",
      "Requirement already satisfied: grpc-interceptor<1.0.0,>=0.15.4 in /opt/app-root/lib64/python3.11/site-packages (from kserve) (0.15.4)\n",
      "Requirement already satisfied: grpcio<2.0.0,>=1.60.0 in /opt/app-root/lib64/python3.11/site-packages (from kserve) (1.71.0)\n",
      "Requirement already satisfied: httpx<0.28.0,>=0.27.2 in /opt/app-root/lib64/python3.11/site-packages (from kserve) (0.27.2)\n",
      "Requirement already satisfied: kubernetes>=23.3.0 in /opt/app-root/lib64/python3.11/site-packages (from kserve) (30.1.0)\n",
      "Requirement already satisfied: numpy<3.0.0,>=1.26.0 in /opt/app-root/lib64/python3.11/site-packages (from kserve) (2.2.6)\n",
      "Requirement already satisfied: orjson<4.0.0,>=3.9.15 in /opt/app-root/lib64/python3.11/site-packages (from kserve) (3.10.18)\n",
      "Requirement already satisfied: pandas<3.0.0,>=2.2.0 in /opt/app-root/lib64/python3.11/site-packages (from kserve) (2.2.3)\n",
      "Requirement already satisfied: prometheus-client<0.21.0,>=0.20.0 in /opt/app-root/lib64/python3.11/site-packages (from kserve) (0.20.0)\n",
      "Requirement already satisfied: protobuf<5.0.0,>=4.25.4 in /opt/app-root/lib64/python3.11/site-packages (from kserve) (4.25.7)\n",
      "Requirement already satisfied: psutil<6.0.0,>=5.9.6 in /opt/app-root/lib64/python3.11/site-packages (from kserve) (5.9.8)\n",
      "Requirement already satisfied: pydantic<3,>1.0 in /opt/app-root/lib64/python3.11/site-packages (from kserve) (1.10.22)\n",
      "Requirement already satisfied: python-dateutil<3.0.0,>=2.8.0 in /opt/app-root/lib64/python3.11/site-packages (from kserve) (2.9.0.post0)\n",
      "Requirement already satisfied: pyyaml<7.0.0,>=6.0.0 in /opt/app-root/lib64/python3.11/site-packages (from kserve) (6.0.2)\n",
      "Requirement already satisfied: six<2.0.0,>=1.16.0 in /opt/app-root/lib64/python3.11/site-packages (from kserve) (1.17.0)\n",
      "Requirement already satisfied: tabulate<0.10.0,>=0.9.0 in /opt/app-root/lib64/python3.11/site-packages (from kserve) (0.9.0)\n",
      "Requirement already satisfied: timing-asgi<0.4.0,>=0.3.0 in /opt/app-root/lib64/python3.11/site-packages (from kserve) (0.3.1)\n",
      "Requirement already satisfied: uvicorn<0.31.0,>=0.30.6 in /opt/app-root/lib64/python3.11/site-packages (from uvicorn[standard]<0.31.0,>=0.30.6->kserve) (0.30.6)\n",
      "Requirement already satisfied: deprecation<3.0,>=2.0 in /opt/app-root/lib64/python3.11/site-packages (from cloudevents<2.0.0,>=1.6.2->kserve) (2.1.0)\n",
      "Requirement already satisfied: starlette<0.47.0,>=0.40.0 in /opt/app-root/lib64/python3.11/site-packages (from fastapi>=0.115.3->kserve) (0.46.2)\n",
      "Requirement already satisfied: typing-extensions>=4.8.0 in /opt/app-root/lib64/python3.11/site-packages (from fastapi>=0.115.3->kserve) (4.13.2)\n",
      "Requirement already satisfied: anyio in /opt/app-root/lib64/python3.11/site-packages (from httpx<0.28.0,>=0.27.2->kserve) (4.9.0)\n",
      "Requirement already satisfied: certifi in /opt/app-root/lib64/python3.11/site-packages (from httpx<0.28.0,>=0.27.2->kserve) (2025.4.26)\n",
      "Requirement already satisfied: httpcore==1.* in /opt/app-root/lib64/python3.11/site-packages (from httpx<0.28.0,>=0.27.2->kserve) (1.0.9)\n",
      "Requirement already satisfied: idna in /opt/app-root/lib64/python3.11/site-packages (from httpx<0.28.0,>=0.27.2->kserve) (3.10)\n",
      "Requirement already satisfied: sniffio in /opt/app-root/lib64/python3.11/site-packages (from httpx<0.28.0,>=0.27.2->kserve) (1.3.1)\n",
      "Requirement already satisfied: h11>=0.16 in /opt/app-root/lib64/python3.11/site-packages (from httpcore==1.*->httpx<0.28.0,>=0.27.2->kserve) (0.16.0)\n",
      "Requirement already satisfied: google-auth>=1.0.1 in /opt/app-root/lib64/python3.11/site-packages (from kubernetes>=23.3.0->kserve) (2.40.1)\n",
      "Requirement already satisfied: websocket-client!=0.40.0,!=0.41.*,!=0.42.*,>=0.32.0 in /opt/app-root/lib64/python3.11/site-packages (from kubernetes>=23.3.0->kserve) (1.8.0)\n",
      "Requirement already satisfied: requests in /opt/app-root/lib64/python3.11/site-packages (from kubernetes>=23.3.0->kserve) (2.32.3)\n",
      "Requirement already satisfied: requests-oauthlib in /opt/app-root/lib64/python3.11/site-packages (from kubernetes>=23.3.0->kserve) (2.0.0)\n",
      "Requirement already satisfied: oauthlib>=3.2.2 in /opt/app-root/lib64/python3.11/site-packages (from kubernetes>=23.3.0->kserve) (3.2.2)\n",
      "Requirement already satisfied: urllib3>=1.24.2 in /opt/app-root/lib64/python3.11/site-packages (from kubernetes>=23.3.0->kserve) (1.26.20)\n",
      "Requirement already satisfied: pytz>=2020.1 in /opt/app-root/lib64/python3.11/site-packages (from pandas<3.0.0,>=2.2.0->kserve) (2025.2)\n",
      "Requirement already satisfied: tzdata>=2022.7 in /opt/app-root/lib64/python3.11/site-packages (from pandas<3.0.0,>=2.2.0->kserve) (2025.2)\n",
      "Requirement already satisfied: click>=7.0 in /opt/app-root/lib64/python3.11/site-packages (from uvicorn<0.31.0,>=0.30.6->uvicorn[standard]<0.31.0,>=0.30.6->kserve) (8.2.1)\n",
      "Requirement already satisfied: httptools>=0.5.0 in /opt/app-root/lib64/python3.11/site-packages (from uvicorn[standard]<0.31.0,>=0.30.6->kserve) (0.6.4)\n",
      "Requirement already satisfied: python-dotenv>=0.13 in /opt/app-root/lib64/python3.11/site-packages (from uvicorn[standard]<0.31.0,>=0.30.6->kserve) (1.1.1)\n",
      "Requirement already satisfied: uvloop!=0.15.0,!=0.15.1,>=0.14.0 in /opt/app-root/lib64/python3.11/site-packages (from uvicorn[standard]<0.31.0,>=0.30.6->kserve) (0.21.0)\n",
      "Requirement already satisfied: watchfiles>=0.13 in /opt/app-root/lib64/python3.11/site-packages (from uvicorn[standard]<0.31.0,>=0.30.6->kserve) (1.1.0)\n",
      "Requirement already satisfied: websockets>=10.4 in /opt/app-root/lib64/python3.11/site-packages (from uvicorn[standard]<0.31.0,>=0.30.6->kserve) (15.0.1)\n",
      "Requirement already satisfied: packaging in /opt/app-root/lib64/python3.11/site-packages (from deprecation<3.0,>=2.0->cloudevents<2.0.0,>=1.6.2->kserve) (25.0)\n",
      "Requirement already satisfied: cachetools<6.0,>=2.0.0 in /opt/app-root/lib64/python3.11/site-packages (from google-auth>=1.0.1->kubernetes>=23.3.0->kserve) (5.5.2)\n",
      "Requirement already satisfied: pyasn1-modules>=0.2.1 in /opt/app-root/lib64/python3.11/site-packages (from google-auth>=1.0.1->kubernetes>=23.3.0->kserve) (0.4.2)\n",
      "Requirement already satisfied: rsa<5,>=3.1.4 in /opt/app-root/lib64/python3.11/site-packages (from google-auth>=1.0.1->kubernetes>=23.3.0->kserve) (4.9.1)\n",
      "Requirement already satisfied: charset-normalizer<4,>=2 in /opt/app-root/lib64/python3.11/site-packages (from requests->kubernetes>=23.3.0->kserve) (3.4.2)\n",
      "Requirement already satisfied: pyasn1<0.7.0,>=0.6.1 in /opt/app-root/lib64/python3.11/site-packages (from pyasn1-modules>=0.2.1->google-auth>=1.0.1->kubernetes>=23.3.0->kserve) (0.6.1)\n",
      "\n",
      "\u001b[1m[\u001b[0m\u001b[34;49mnotice\u001b[0m\u001b[1;39;49m]\u001b[0m\u001b[39;49m A new release of pip is available: \u001b[0m\u001b[31;49m24.2\u001b[0m\u001b[39;49m -> \u001b[0m\u001b[32;49m25.1.1\u001b[0m\n",
      "\u001b[1m[\u001b[0m\u001b[34;49mnotice\u001b[0m\u001b[1;39;49m]\u001b[0m\u001b[39;49m To update, run: \u001b[0m\u001b[32;49mpip install --upgrade pip\u001b[0m\n",
      "Note: you may need to restart the kernel to use updated packages.\n"
     ]
    }
   ],
   "source": [
    "pip install kserve"
   ]
  },
  {
   "cell_type": "code",
   "execution_count": 35,
   "id": "5ee1b4f9-f758-4127-96ca-2f73a9b9dce6",
   "metadata": {},
   "outputs": [],
   "source": [
    "import os\n",
    "import json\n",
    "import requests"
   ]
  },
  {
   "cell_type": "code",
   "execution_count": 36,
   "id": "9b18acc6-5db9-4bb4-a1e4-a4997820ab27",
   "metadata": {},
   "outputs": [],
   "source": [
    "# Input\n",
    "prompt = \"Write a poem about a dog\""
   ]
  },
  {
   "cell_type": "code",
   "execution_count": 97,
   "id": "200b331e-3bc0-4b4b-aaaa-ac5341f566cb",
   "metadata": {},
   "outputs": [],
   "source": [
    "# VLLM Inference only (no transformer)\n",
    "model_name = \"vllm-llama3-8b\"\n",
    "headers = {\n",
    "    \"Content-Type\": \"application/json\"\n",
    "}\n",
    "vllm_data = {\n",
    "    \"model\": \"vllm-llama3-8b\",\n",
    "    \"prompt\": prompt,\n",
    "    \"max_tokens\": 100,\n",
    "    \"temperature\": 0\n",
    "}\n",
    "\n",
    "# To get base_url: \n",
    "# oc expose service vllm-llama3-8b-predictor\n",
    "# oc get route vllm-llama3-8b-predictor -n modelserving-demo -o jsonpath='{\"http://\"}{.spec.host}{\"\\n\"}'\n",
    "base_url = \"http://vllm-llama3-8b-predictor-modelserving-demo.apps.rosa.n1t3u2f3w1s0b1d.kkw2.p3.openshiftapps.com\""
   ]
  },
  {
   "cell_type": "code",
   "execution_count": 99,
   "id": "2a8c265f-4676-435b-a8b6-455e800b5e72",
   "metadata": {
    "scrolled": true
   },
   "outputs": [
    {
     "name": "stdout",
     "output_type": "stream",
     "text": [
      "that loves to play fetch\n",
      "There once was a dog, with a heart so true,\n",
      "Who loved to play fetch, with a ball or two.\n",
      "He'd chase after it, with a joyful shout,\n",
      "And bring it back, with his tail held out.\n",
      "\n",
      "His favorite game, was to play all day,\n",
      "And bring back the ball, in his own special way.\n",
      "He'd run and he'd jump, and he'd spin around,\n",
      "And bring back the ball, with a happy sound.\n",
      "\n",
      "His\n"
     ]
    }
   ],
   "source": [
    "# VLLM Inference only (no transformer)\n",
    "infer_response = requests.post(f\"{base_url}/v1/completions\", headers=headers, json=vllm_data)\n",
    "\n",
    "if infer_response.status_code == 200:\n",
    "    print(infer_response.json()[\"choices\"][0][\"text\"].strip())\n",
    "else:\n",
    "    print(\"Error:\", infer_response.status_code)\n",
    "    print(infer_response.text)\n",
    "#print(\"Raw response: \", infer_response)"
   ]
  },
  {
   "cell_type": "code",
   "execution_count": null,
   "id": "4ff4fbef-fda9-4de5-ad39-dbdc328a12b8",
   "metadata": {},
   "outputs": [],
   "source": []
  }
 ],
 "metadata": {
  "kernelspec": {
   "display_name": "Python 3.11",
   "language": "python",
   "name": "python3"
  },
  "language_info": {
   "codemirror_mode": {
    "name": "ipython",
    "version": 3
   },
   "file_extension": ".py",
   "mimetype": "text/x-python",
   "name": "python",
   "nbconvert_exporter": "python",
   "pygments_lexer": "ipython3",
   "version": "3.11.11"
  }
 },
 "nbformat": 4,
 "nbformat_minor": 5
}
