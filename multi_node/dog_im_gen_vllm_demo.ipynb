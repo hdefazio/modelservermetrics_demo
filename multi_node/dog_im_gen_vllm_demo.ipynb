{
 "cells": [
  {
   "cell_type": "code",
   "execution_count": null,
   "id": "6b4e09d0",
   "metadata": {},
   "outputs": [],
   "source": [
    "# Requirements\n",
    "pip install kserve matplotlib\n",
    "pip install torchvision --index-url https://download.pytorch.org/whl/cu118"
   ]
  },
  {
   "cell_type": "code",
   "execution_count": null,
   "id": "688ef9a1",
   "metadata": {},
   "outputs": [],
   "source": [
    "from kserve import RESTConfig, InferenceRESTClient, InferRequest, InferInput\n",
    "from PIL import Image\n",
    "import matplotlib.pyplot as plt\n",
    "from torchvision import datasets, transforms\n",
    "from random import randrange\n",
    "import numpy as np\n",
    "import os"
   ]
  },
  {
   "cell_type": "code",
   "execution_count": null,
   "id": "ba5ea277",
   "metadata": {},
   "outputs": [],
   "source": [
    "# Inference\n",
    "model_name = \"dog_im_gen_vllm\"\n",
    "prompt = \"Create an image of a realistic dog\"\n",
    "\n",
    "request = InferRequest(\n",
    "    model_name=model_name,\n",
    "    infer_inputs=[\n",
    "        InferInput(name=\"prompt\", shape=[1], datatype=\"BYTES\", data=np.array([prompt.encode('utf-8')]))\n",
    "    ]\n",
    ")\n",
    "\n",
    "cfg = RESTConfig(protocol=\"v2\", verify=False)\n",
    "client = InferenceRESTClient(cfg)\n",
    "\n",
    "namespace = \"modelserving-demo\"\n",
    "cluster_name = \"modelserving-demo\"\n",
    "base_url = f\"https://{model_name}-{namespace}.apps.rosa.{cluster_name}.rfa5.p3.openshiftapps.com\""
   ]
  },
  {
   "cell_type": "code",
   "execution_count": null,
   "id": "f1617a03",
   "metadata": {},
   "outputs": [],
   "source": [
    "infer_response = await client.infer(base_url, request, request.model_name, is_graph_endpoint=True)\n",
    "det_class = dog_breeds_classes[np.argmax(infer_response.outputs[0].data)]\n",
    "# print(\"Raw response: \", infer_response)\n"
   ]
  },
  {
   "cell_type": "code",
   "execution_count": null,
   "id": "d8256273",
   "metadata": {},
   "outputs": [],
   "source": [
    "# Show generated image\n",
    "fig = plt.figure(figsize=(1,1))\n",
    "\n",
    "img = infer_response.outputs[0].data\n",
    "fig.add_subplot(1, 1, 1)\n",
    "\n",
    "plt.title(\"Generated image\")\n",
    "plt.axis(\"off\")\n",
    "plt.imshow(img.squeeze().permute(1, 2, 0))\n",
    "plt.show()"
   ]
  }
 ],
 "metadata": {
  "language_info": {
   "name": "python"
  }
 },
 "nbformat": 4,
 "nbformat_minor": 5
}
