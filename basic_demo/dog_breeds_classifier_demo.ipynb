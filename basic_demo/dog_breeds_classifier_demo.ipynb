{
 "cells": [
  {
   "cell_type": "code",
   "execution_count": null,
   "id": "e6c0922f",
   "metadata": {},
   "outputs": [],
   "source": [
    "# Requirements\n",
    "pip install kserve"
   ]
  },
  {
   "cell_type": "code",
   "execution_count": null,
   "id": "2f52e604",
   "metadata": {},
   "outputs": [],
   "source": [
    "from kserve import RESTConfig, InferenceRESTClient, InferRequest, InferInput\n",
    "from PIL import Image\n",
    "import matplotlib.pyplot as plt\n",
    "from torchvision import datasets, transforms\n",
    "from random import randrange\n",
    "import numpy as np\n",
    "import os\n",
    "import json\n",
    "import requests\n",
    "import io"
   ]
  },
  {
   "cell_type": "code",
   "execution_count": null,
   "id": "fe4e63a9",
   "metadata": {},
   "outputs": [],
   "source": [
    "# Download dataset\n",
    "!wget https://s3-us-west-1.amazonaws.com/udacity-aind/dog-project/dogImages.zip"
   ]
  },
  {
   "cell_type": "code",
   "execution_count": null,
   "id": "f824dd77",
   "metadata": {},
   "outputs": [],
   "source": [
    "%%sh\n",
    "unzip -q dogImages.zip\n",
    "mv dogImages dog-breeds-dataset"
   ]
  },
  {
   "cell_type": "code",
   "execution_count": null,
   "id": "b58ffbb3",
   "metadata": {},
   "outputs": [],
   "source": [
    "# Dataset\n",
    "ds_dog_breeds_path = \"./dog-breeds-dataset\"\n",
    "test_ds_dog_breeds_path = os.path.join(ds_dog_breeds_path, \"test\")\n",
    "ds_dog_breeds = datasets.ImageFolder(test_ds_dog_breeds_path)\n",
    "dog_breeds_classes = ds_dog_breeds.find_classes(test_ds_dog_breeds_path)[0]\n",
    "\n",
    "print(f\"Classes dog_breeds_classifier: {dog_breeds_classes}\")"
   ]
  },
  {
   "cell_type": "code",
   "execution_count": null,
   "id": "ddd0f3e8",
   "metadata": {},
   "outputs": [],
   "source": [
    "# Show sample image\n",
    "fig = plt.figure(figsize=(1, 1))\n",
    "sample_idx = randrange(len(ds_dog_breeds))\n",
    "\n",
    "img, label = ds_dog_breeds[sample_idx]\n",
    "print(img.format)\n",
    "fig.add_subplot(1, 1, 1)\n",
    "\n",
    "plt.title(dog_breeds_classes[label])\n",
    "plt.axis(\"off\")\n",
    "plt.imshow(img)\n",
    "plt.show()"
   ]
  },
  {
   "cell_type": "code",
   "execution_count": null,
   "id": "6910ffde",
   "metadata": {},
   "outputs": [],
   "source": [
    "# Convert image to bytes\n",
    "def image_to_byte_array(image: Image) -> bytes:\n",
    "    # BytesIO is a file-like buffer stored in memory\n",
    "    imgByteArr = io.BytesIO()\n",
    "    # image.save expects a file-like as a argument\n",
    "    image.save(imgByteArr, format=\"jpeg\")\n",
    "    # Turn the BytesIO object back into a bytes object\n",
    "    imgByteArr = imgByteArr.getvalue()\n",
    "    return imgByteArr\n",
    "\n",
    "\n",
    "img_bytes = image_to_byte_array(img)"
   ]
  },
  {
   "cell_type": "code",
   "execution_count": null,
   "id": "0a222d64",
   "metadata": {},
   "outputs": [],
   "source": [
    "# Inference\n",
    "model_name = \"dog-breeds-classifier\"\n",
    "headers = {\n",
    "    \"Content-Type\": \"image/jpeg\", # Or \"image/png\", \"image/webp\", etc.\n",
    "}\n",
    "\n",
    "base_url = \"https://dog-breeds-classifier-modelserving-demo.apps.rosa.n1t3u2f3w1s0b1d.kkw2.p3.openshiftapps.com/\"\n",
    "#base_url = f\"https://dog-breeds-classifier-modelserving-demo.apps.rosa.n1t3u2f3w1s0b1d.kkw2.p3.openshiftapps.com/v2/models/dog-breeds-classifier/infer\""
   ]
  },
  {
   "cell_type": "code",
   "execution_count": null,
   "id": "779f7427",
   "metadata": {},
   "outputs": [],
   "source": [
    "import base64\n",
    "base64_encoded_data = base64.b64encode(img_bytes).decode(\"utf-8\")\n",
    "json_data = json.dumps({\"image\": base64_encoded_data})\n",
    "\n",
    "image = Image.open(io.BytesIO(img_bytes))\n",
    "\n",
    "img_array = np.array(img)\n",
    "        \n",
    "# Convert the NumPy array to a list to ensure JSON serializability\n",
    "data = img_array.tolist()\n",
    "\n",
    "# Encode the data to JSON\n",
    "json_data = json.dumps(data)\n",
    "\n",
    "infer_response = requests.post(base_url, headers=headers, data=data)\n",
    "infer_response.raise_for_status()\n",
    "print(infer_response.text)\n",
    "response_data = infer_response.json()\n",
    "print(json.dumps(response_data, indent=2))\n",
    "\n",
    "\n",
    "det_class = dog_breeds_classes[np.argmax(infer_response.outputs[0].data)]\n",
    "# print(\"Raw response: \", infer_response)\n",
    "print(f\"Detected class: {det_class}\")\n"
   ]
  }
 ],
 "metadata": {
  "language_info": {
   "name": "python"
  }
 },
 "nbformat": 4,
 "nbformat_minor": 5
}
