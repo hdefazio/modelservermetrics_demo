{
 "cells": [
  {
   "cell_type": "code",
   "execution_count": null,
   "id": "2fc35a74-9ce8-4b1c-9805-bc7c925f6b4b",
   "metadata": {},
   "outputs": [],
   "source": [
    "pip install kserve"
   ]
  },
  {
   "cell_type": "code",
   "execution_count": 3,
   "id": "96d68550-2436-4917-be14-ec136d157292",
   "metadata": {},
   "outputs": [],
   "source": [
    "from kserve import RESTConfig, InferenceRESTClient, InferRequest, InferInput\n",
    "from PIL import Image\n",
    "import matplotlib.pyplot as plt\n",
    "from torchvision import datasets, transforms\n",
    "from random import randrange\n",
    "import numpy as np\n",
    "import os\n",
    "import json\n",
    "import requests"
   ]
  },
  {
   "cell_type": "code",
   "execution_count": null,
   "id": "c337164d-b63b-4020-b7ef-06a28814967b",
   "metadata": {},
   "outputs": [],
   "source": [
    "# Download dataset\n",
    "!wget https://s3-us-west-1.amazonaws.com/udacity-aind/dog-project/dogImages.zip"
   ]
  },
  {
   "cell_type": "code",
   "execution_count": 5,
   "id": "f6b3f5b8-3976-467a-8a0a-c0a9388c74db",
   "metadata": {},
   "outputs": [],
   "source": [
    "%%sh\n",
    "unzip -q dogImages.zip\n",
    "mv dogImages dog-breeds-dataset\n"
   ]
  },
  {
   "cell_type": "code",
   "execution_count": 4,
   "id": "0e2a9055-2de1-4fc2-9637-40acdc2b08d7",
   "metadata": {},
   "outputs": [
    {
     "name": "stdout",
     "output_type": "stream",
     "text": [
      "Classes dog_breeds_classifier: ['001.Affenpinscher', '002.Afghan_hound', '003.Airedale_terrier', '004.Akita', '005.Alaskan_malamute', '006.American_eskimo_dog', '007.American_foxhound', '008.American_staffordshire_terrier', '009.American_water_spaniel', '010.Anatolian_shepherd_dog', '011.Australian_cattle_dog', '012.Australian_shepherd', '013.Australian_terrier', '014.Basenji', '015.Basset_hound', '016.Beagle', '017.Bearded_collie', '018.Beauceron', '019.Bedlington_terrier', '020.Belgian_malinois', '021.Belgian_sheepdog', '022.Belgian_tervuren', '023.Bernese_mountain_dog', '024.Bichon_frise', '025.Black_and_tan_coonhound', '026.Black_russian_terrier', '027.Bloodhound', '028.Bluetick_coonhound', '029.Border_collie', '030.Border_terrier', '031.Borzoi', '032.Boston_terrier', '033.Bouvier_des_flandres', '034.Boxer', '035.Boykin_spaniel', '036.Briard', '037.Brittany', '038.Brussels_griffon', '039.Bull_terrier', '040.Bulldog', '041.Bullmastiff', '042.Cairn_terrier', '043.Canaan_dog', '044.Cane_corso', '045.Cardigan_welsh_corgi', '046.Cavalier_king_charles_spaniel', '047.Chesapeake_bay_retriever', '048.Chihuahua', '049.Chinese_crested', '050.Chinese_shar-pei', '051.Chow_chow', '052.Clumber_spaniel', '053.Cocker_spaniel', '054.Collie', '055.Curly-coated_retriever', '056.Dachshund', '057.Dalmatian', '058.Dandie_dinmont_terrier', '059.Doberman_pinscher', '060.Dogue_de_bordeaux', '061.English_cocker_spaniel', '062.English_setter', '063.English_springer_spaniel', '064.English_toy_spaniel', '065.Entlebucher_mountain_dog', '066.Field_spaniel', '067.Finnish_spitz', '068.Flat-coated_retriever', '069.French_bulldog', '070.German_pinscher', '071.German_shepherd_dog', '072.German_shorthaired_pointer', '073.German_wirehaired_pointer', '074.Giant_schnauzer', '075.Glen_of_imaal_terrier', '076.Golden_retriever', '077.Gordon_setter', '078.Great_dane', '079.Great_pyrenees', '080.Greater_swiss_mountain_dog', '081.Greyhound', '082.Havanese', '083.Ibizan_hound', '084.Icelandic_sheepdog', '085.Irish_red_and_white_setter', '086.Irish_setter', '087.Irish_terrier', '088.Irish_water_spaniel', '089.Irish_wolfhound', '090.Italian_greyhound', '091.Japanese_chin', '092.Keeshond', '093.Kerry_blue_terrier', '094.Komondor', '095.Kuvasz', '096.Labrador_retriever', '097.Lakeland_terrier', '098.Leonberger', '099.Lhasa_apso', '100.Lowchen', '101.Maltese', '102.Manchester_terrier', '103.Mastiff', '104.Miniature_schnauzer', '105.Neapolitan_mastiff', '106.Newfoundland', '107.Norfolk_terrier', '108.Norwegian_buhund', '109.Norwegian_elkhound', '110.Norwegian_lundehund', '111.Norwich_terrier', '112.Nova_scotia_duck_tolling_retriever', '113.Old_english_sheepdog', '114.Otterhound', '115.Papillon', '116.Parson_russell_terrier', '117.Pekingese', '118.Pembroke_welsh_corgi', '119.Petit_basset_griffon_vendeen', '120.Pharaoh_hound', '121.Plott', '122.Pointer', '123.Pomeranian', '124.Poodle', '125.Portuguese_water_dog', '126.Saint_bernard', '127.Silky_terrier', '128.Smooth_fox_terrier', '129.Tibetan_mastiff', '130.Welsh_springer_spaniel', '131.Wirehaired_pointing_griffon', '132.Xoloitzcuintli', '133.Yorkshire_terrier']\n"
     ]
    }
   ],
   "source": [
    "# Dataset\n",
    "ds_dog_breeds_path = \"./dog-breeds-dataset\"\n",
    "test_ds_dog_breeds_path = os.path.join(ds_dog_breeds_path, \"test\")\n",
    "ds_dog_breeds = datasets.ImageFolder(test_ds_dog_breeds_path)\n",
    "dog_breeds_classes = ds_dog_breeds.find_classes(test_ds_dog_breeds_path)[0]\n",
    "\n",
    "print(f\"Classes dog_breeds_classifier: {dog_breeds_classes}\")"
   ]
  },
  {
   "cell_type": "code",
   "execution_count": 11,
   "id": "16c0ae2a-0700-4f21-a0b2-4523ba3b4c2c",
   "metadata": {},
   "outputs": [
    {
     "data": {
      "image/png": "[encoded data removed]",
      "text/plain": [
       "<Figure size 100x100 with 1 Axes>"
      ]
     },
     "metadata": {},
     "output_type": "display_data"
    }
   ],
   "source": [
    "# Show sample image\n",
    "fig = plt.figure(figsize=(1, 1))\n",
    "sample_idx = randrange(len(ds_dog_breeds))\n",
    "\n",
    "img, label = ds_dog_breeds[sample_idx]\n",
    "fig.add_subplot(1, 1, 1)\n",
    "\n",
    "plt.title(dog_breeds_classes[label])\n",
    "plt.axis(\"off\")\n",
    "plt.imshow(img)\n",
    "plt.show()"
   ]
  },
  {
   "cell_type": "code",
   "execution_count": 12,
   "id": "393dd824-6b1d-4627-9e0b-768fa72a10af",
   "metadata": {},
   "outputs": [
    {
     "name": "stdout",
     "output_type": "stream",
     "text": [
      "(1, 768, 1024, 3)\n"
     ]
    }
   ],
   "source": [
    "img_array = np.array(img.convert('RGB'))\n",
    "\n",
    "if img_array.ndim == 3:\n",
    "    img_array = np.expand_dims(img_array, axis=0)  # Add batch dimension\n",
    "print(img_array.shape)"
   ]
  },
  {
   "cell_type": "code",
   "execution_count": 29,
   "id": "64f51732-3cdf-486d-9b8d-4039d78f756f",
   "metadata": {},
   "outputs": [
    {
     "name": "stdout",
     "output_type": "stream",
     "text": [
      "The history saving thread hit an unexpected error (OperationalError('attempt to write a readonly database')).History will not be written to the database.\n"
     ]
    }
   ],
   "source": [
    "# Inference\n",
    "model_name = \"dog-breeds-classifier\"\n",
    "request = InferRequest(\n",
    "    model_name=model_name,\n",
    "    infer_inputs=[\n",
    "        InferInput(\n",
    "            name=\"data\",\n",
    "            shape=list(img_array.shape),\n",
    "            datatype=\"FP32\",\n",
    "            data=img_array.tolist()\n",
    "        )\n",
    "    ],\n",
    ")\n",
    "\n",
    "cfg = RESTConfig(protocol=\"v2\", verify=False)\n",
    "client = InferenceRESTClient(cfg)\n",
    "# To get base_url: \n",
    "# oc get isvc dog-breeds-classifier -n modelserving-demo -o jsonpath='{.status.url}'\n",
    "base_url = \"https://dog-breeds-classifier-modelserving-demo.apps.rosa.n1t3u2f3w1s0b1d.kkw2.p3.openshiftapps.com\""
   ]
  },
  {
   "cell_type": "code",
   "execution_count": 31,
   "id": "517d1165-11e0-4646-a0fd-790001951bd3",
   "metadata": {},
   "outputs": [
    {
     "name": "stdout",
     "output_type": "stream",
     "text": [
      "Detected class: 105.Neapolitan_mastiff\n"
     ]
    }
   ],
   "source": [
    "infer_response = await client.infer(\n",
    "    base_url,\n",
    "    request,\n",
    "    request.model_name,\n",
    "    is_graph_endpoint=False\n",
    ")\n",
    "det_class = dog_breeds_classes[np.argmax(infer_response.outputs[0].data)]\n",
    "# print(\"Raw response: \", infer_response)\n",
    "print(f\"Detected class: {det_class}\")"
   ]
  }
 ],
 "metadata": {
  "kernelspec": {
   "display_name": "Python 3.11",
   "language": "python",
   "name": "python3"
  },
  "language_info": {
   "codemirror_mode": {
    "name": "ipython",
    "version": 3
   },
   "file_extension": ".py",
   "mimetype": "text/x-python",
   "name": "python",
   "nbconvert_exporter": "python",
   "pygments_lexer": "ipython3",
   "version": "3.11.11"
  }
 },
 "nbformat": 4,
 "nbformat_minor": 5
}
