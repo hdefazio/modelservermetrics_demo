{
 "cells": [
  {
   "cell_type": "code",
   "execution_count": null,
   "id": "e6c0922f",
   "metadata": {},
   "outputs": [],
   "source": [
    "# Requirements\n",
    "pip install kserve"
   ]
  },
  {
   "cell_type": "code",
   "execution_count": null,
   "id": "2f52e604",
   "metadata": {},
   "outputs": [],
   "source": [
    "from kserve import RESTConfig, InferenceRESTClient, InferRequest, InferInput\n",
    "from PIL import Image\n",
    "import matplotlib.pyplot as plt\n",
    "from torchvision import datasets, transforms\n",
    "from random import randrange\n",
    "import numpy as np\n",
    "import os\n",
    "import json\n",
    "import requests\n",
    "import io"
   ]
  },
  {
   "cell_type": "code",
   "execution_count": null,
   "id": "fe4e63a9",
   "metadata": {},
   "outputs": [],
   "source": [
    "# Download dataset\n",
    "!wget https://s3-us-west-1.amazonaws.com/udacity-aind/dog-project/dogImages.zip"
   ]
  },
  {
   "cell_type": "code",
   "execution_count": null,
   "id": "f824dd77",
   "metadata": {},
   "outputs": [],
   "source": [
    "%%sh\n",
    "unzip -q dogImages.zip\n",
    "mv dogImages dog-breeds-dataset"
   ]
  },
  {
   "cell_type": "code",
   "execution_count": null,
   "id": "b58ffbb3",
   "metadata": {},
   "outputs": [],
   "source": [
    "# Dataset\n",
    "ds_dog_breeds_path = \"./dog-breeds-dataset\"\n",
    "test_ds_dog_breeds_path = os.path.join(ds_dog_breeds_path, \"test\")\n",
    "ds_dog_breeds = datasets.ImageFolder(test_ds_dog_breeds_path)\n",
    "dog_breeds_classes = ds_dog_breeds.find_classes(test_ds_dog_breeds_path)[0]\n",
    "\n",
    "print(f\"Classes dog_breeds_classifier: {dog_breeds_classes}\")"
   ]
  },
  {
   "cell_type": "code",
   "execution_count": null,
   "id": "ddd0f3e8",
   "metadata": {},
   "outputs": [],
   "source": [
    "# Show sample image\n",
    "fig = plt.figure(figsize=(1, 1))\n",
    "sample_idx = randrange(len(ds_dog_breeds))\n",
    "\n",
    "img, label = ds_dog_breeds[sample_idx]\n",
    "fig.add_subplot(1, 1, 1)\n",
    "\n",
    "plt.title(dog_breeds_classes[label])\n",
    "plt.axis(\"off\")\n",
    "plt.imshow(img)\n",
    "plt.show()"
   ]
  },
  {
   "cell_type": "code",
   "execution_count": null,
   "id": "6910ffde",
   "metadata": {},
   "outputs": [],
   "source": [
    "img_array = np.array(img.convert('RGB'))\n",
    "\n",
    "if img_array.ndim == 3:\n",
    "    img_array = np.expand_dims(img_array, axis=0)  # Add batch dimension\n",
    "print(img_array.shape)\n"
   ]
  },
  {
   "cell_type": "code",
   "execution_count": null,
   "id": "0a222d64",
   "metadata": {},
   "outputs": [],
   "source": [
    "# Inference\n",
    "model_name = \"dog-breeds-classifier\"\n",
    "request = InferRequest(\n",
    "    model_name=model_name,\n",
    "    infer_inputs=[\n",
    "        InferInput(\n",
    "            name=\"data\",\n",
    "            shape=list(img_array.shape),\n",
    "            datatype=\"FP32\",\n",
    "            data=img_array.tolist()\n",
    "        )\n",
    "    ]\n",
    ")\n",
    "\n",
    "cfg = RESTConfig(protocol=\"v2\", verify=False)\n",
    "client = InferenceRESTClient(cfg)\n",
    "\n",
    "base_url = \"https://dog-breeds-classifier-modelserving-demo.apps.rosa.n1t3u2f3w1s0b1d.kkw2.p3.openshiftapps.com\""
   ]
  },
  {
   "cell_type": "code",
   "execution_count": null,
   "id": "779f7427",
   "metadata": {},
   "outputs": [],
   "source": [
    "# Note: May throw an error when using the inference graph pipeline if the input is an image of a cat\n",
    "# This is because the return code is 500\n",
    "infer_response = await client.infer(base_url, request, request.model_name, is_graph_endpoint=False)\n",
    "det_class = dog_breeds_classes[np.argmax(infer_response.outputs[0].data)]\n",
    "print(\"Raw response: \", infer_response)\n",
    "print(f\"Detected class: {det_class}\")"
   ]
  }
 ],
 "metadata": {
  "language_info": {
   "name": "python"
  }
 },
 "nbformat": 4,
 "nbformat_minor": 5
}
