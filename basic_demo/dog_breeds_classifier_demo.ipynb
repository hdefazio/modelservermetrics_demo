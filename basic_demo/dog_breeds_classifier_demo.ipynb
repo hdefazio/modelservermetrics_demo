{
 "cells": [
  {
   "cell_type": "code",
   "execution_count": null,
   "id": "fc2fbf61-e564-42cc-b5a5-857442698cb8",
   "metadata": {},
   "outputs": [],
   "source": [
    "pip install kserve"
   ]
  },
  {
   "cell_type": "code",
   "execution_count": null,
   "id": "026c1df5-db3a-4867-9eea-e706ba201483",
   "metadata": {},
   "outputs": [],
   "source": [
    "from kserve import RESTConfig, InferenceRESTClient, InferRequest, InferInput\n",
    "from PIL import Image\n",
    "import matplotlib.pyplot as plt\n",
    "from torchvision import datasets, transforms\n",
    "from random import randrange\n",
    "import numpy as np\n",
    "import os\n",
    "import json\n",
    "import requests"
   ]
  },
  {
   "cell_type": "code",
   "execution_count": 6,
   "id": "e522261f-9660-4f17-8cea-d03d922f38b2",
   "metadata": {},
   "outputs": [
    {
     "name": "stdout",
     "output_type": "stream",
     "text": [
      "--2025-05-16 16:43:58--  https://s3-us-west-1.amazonaws.com/udacity-aind/dog-project/dogImages.zip\n",
      "Resolving s3-us-west-1.amazonaws.com (s3-us-west-1.amazonaws.com)... 52.219.194.8, 52.219.216.88, 52.219.220.176, ...\n",
      "Connecting to s3-us-west-1.amazonaws.com (s3-us-west-1.amazonaws.com)|52.219.194.8|:443... connected.\n",
      "HTTP request sent, awaiting response... 200 OK\n",
      "Length: 1132023110 (1.1G) [application/zip]\n",
      "Saving to: ‘dogImages.zip’\n",
      "\n",
      "dogImages.zip       100%[===================>]   1.05G   553KB/s    in 34m 55s \n",
      "\n",
      "2025-05-16 17:18:54 (528 KB/s) - ‘dogImages.zip’ saved [1132023110/1132023110]\n",
      "\n"
     ]
    }
   ],
   "source": [
    "# Download dataset\n",
    "!wget https://s3-us-west-1.amazonaws.com/udacity-aind/dog-project/dogImages.zip\n"
   ]
  },
  {
   "cell_type": "code",
   "execution_count": 7,
   "id": "2134ae4f-ff97-42e0-8eb1-e6b9db2c481b",
   "metadata": {},
   "outputs": [],
   "source": [
    "%%sh\n",
    "unzip -q dogImages.zip\n",
    "mv dogImages dog-breeds-dataset"
   ]
  },
  {
   "cell_type": "code",
   "execution_count": 113,
   "id": "2e0de443-c88d-4ae9-9443-d1bbe73d6925",
   "metadata": {},
   "outputs": [
    {
     "name": "stdout",
     "output_type": "stream",
     "text": [
      "Classes dog_breeds_classifier: ['001.Affenpinscher', '002.Afghan_hound', '003.Airedale_terrier', '004.Akita', '005.Alaskan_malamute', '006.American_eskimo_dog', '007.American_foxhound', '008.American_staffordshire_terrier', '009.American_water_spaniel', '010.Anatolian_shepherd_dog', '011.Australian_cattle_dog', '012.Australian_shepherd', '013.Australian_terrier', '014.Basenji', '015.Basset_hound', '016.Beagle', '017.Bearded_collie', '018.Beauceron', '019.Bedlington_terrier', '020.Belgian_malinois', '021.Belgian_sheepdog', '022.Belgian_tervuren', '023.Bernese_mountain_dog', '024.Bichon_frise', '025.Black_and_tan_coonhound', '026.Black_russian_terrier', '027.Bloodhound', '028.Bluetick_coonhound', '029.Border_collie', '030.Border_terrier', '031.Borzoi', '032.Boston_terrier', '033.Bouvier_des_flandres', '034.Boxer', '035.Boykin_spaniel', '036.Briard', '037.Brittany', '038.Brussels_griffon', '039.Bull_terrier', '040.Bulldog', '041.Bullmastiff', '042.Cairn_terrier', '043.Canaan_dog', '044.Cane_corso', '045.Cardigan_welsh_corgi', '046.Cavalier_king_charles_spaniel', '047.Chesapeake_bay_retriever', '048.Chihuahua', '049.Chinese_crested', '050.Chinese_shar-pei', '051.Chow_chow', '052.Clumber_spaniel', '053.Cocker_spaniel', '054.Collie', '055.Curly-coated_retriever', '056.Dachshund', '057.Dalmatian', '058.Dandie_dinmont_terrier', '059.Doberman_pinscher', '060.Dogue_de_bordeaux', '061.English_cocker_spaniel', '062.English_setter', '063.English_springer_spaniel', '064.English_toy_spaniel', '065.Entlebucher_mountain_dog', '066.Field_spaniel', '067.Finnish_spitz', '068.Flat-coated_retriever', '069.French_bulldog', '070.German_pinscher', '071.German_shepherd_dog', '072.German_shorthaired_pointer', '073.German_wirehaired_pointer', '074.Giant_schnauzer', '075.Glen_of_imaal_terrier', '076.Golden_retriever', '077.Gordon_setter', '078.Great_dane', '079.Great_pyrenees', '080.Greater_swiss_mountain_dog', '081.Greyhound', '082.Havanese', '083.Ibizan_hound', '084.Icelandic_sheepdog', '085.Irish_red_and_white_setter', '086.Irish_setter', '087.Irish_terrier', '088.Irish_water_spaniel', '089.Irish_wolfhound', '090.Italian_greyhound', '091.Japanese_chin', '092.Keeshond', '093.Kerry_blue_terrier', '094.Komondor', '095.Kuvasz', '096.Labrador_retriever', '097.Lakeland_terrier', '098.Leonberger', '099.Lhasa_apso', '100.Lowchen', '101.Maltese', '102.Manchester_terrier', '103.Mastiff', '104.Miniature_schnauzer', '105.Neapolitan_mastiff', '106.Newfoundland', '107.Norfolk_terrier', '108.Norwegian_buhund', '109.Norwegian_elkhound', '110.Norwegian_lundehund', '111.Norwich_terrier', '112.Nova_scotia_duck_tolling_retriever', '113.Old_english_sheepdog', '114.Otterhound', '115.Papillon', '116.Parson_russell_terrier', '117.Pekingese', '118.Pembroke_welsh_corgi', '119.Petit_basset_griffon_vendeen', '120.Pharaoh_hound', '121.Plott', '122.Pointer', '123.Pomeranian', '124.Poodle', '125.Portuguese_water_dog', '126.Saint_bernard', '127.Silky_terrier', '128.Smooth_fox_terrier', '129.Tibetan_mastiff', '130.Welsh_springer_spaniel', '131.Wirehaired_pointing_griffon', '132.Xoloitzcuintli', '133.Yorkshire_terrier']\n"
     ]
    }
   ],
   "source": [
    "# Dataset\n",
    "ds_dog_breeds_path = \"./dog-breeds-dataset\"\n",
    "test_ds_dog_breeds_path = os.path.join(ds_dog_breeds_path, \"test\")\n",
    "ds_dog_breeds = datasets.ImageFolder(test_ds_dog_breeds_path)\n",
    "dog_breeds_classes = ds_dog_breeds.find_classes(test_ds_dog_breeds_path)[0]\n",
    "\n",
    "print(f\"Classes dog_breeds_classifier: {dog_breeds_classes}\")"
   ]
  },
  {
   "cell_type": "code",
   "execution_count": 114,
   "id": "6cb12ca5-349d-4322-aa97-5e01dd55a279",
   "metadata": {
    "scrolled": true
   },
   "outputs": [
    {
     "name": "stdout",
     "output_type": "stream",
     "text": [
      "None\n"
     ]
    },
    {
     "data": {
      "image/png": "[encoded data removed]",
      "text/plain": [
       "<Figure size 100x100 with 1 Axes>"
      ]
     },
     "metadata": {},
     "output_type": "display_data"
    }
   ],
   "source": [
    "# Show sample image\n",
    "fig = plt.figure(figsize=(1, 1))\n",
    "sample_idx = randrange(len(ds_dog_breeds))\n",
    "\n",
    "img, label = ds_dog_breeds[sample_idx]\n",
    "fig.add_subplot(1, 1, 1)\n",
    "\n",
    "plt.title(dog_breeds_classes[label])\n",
    "plt.axis(\"off\")\n",
    "plt.imshow(img)\n",
    "plt.show()"
   ]
  },
  {
   "cell_type": "code",
   "execution_count": 115,
   "id": "8d5ef7d9-6f02-429d-b86c-dec127e838e9",
   "metadata": {},
   "outputs": [
    {
     "name": "stdout",
     "output_type": "stream",
     "text": [
      "(1, 1225, 1333, 3)\n"
     ]
    }
   ],
   "source": [
    "img_array = np.array(img.convert('RGB'))\n",
    "\n",
    "if img_array.ndim == 3:\n",
    "    img_array = np.expand_dims(img_array, axis=0)  # Add batch dimension\n",
    "print(img_array.shape)\n"
   ]
  },
  {
   "cell_type": "code",
   "execution_count": null,
   "id": "b71d9e6c-6e37-4c07-9c1c-5147f348ba76",
   "metadata": {},
   "outputs": [],
   "source": [
    "# Inference\n",
    "model_name = \"dog-breeds-classifier\"\n",
    "request = InferRequest(\n",
    "    model_name=model_name,\n",
    "    infer_inputs=[\n",
    "        InferInput(\n",
    "            name=\"data\",\n",
    "            shape=list(img_array.shape),\n",
    "            datatype=\"FP32\",\n",
    "            data=img_array.tolist()\n",
    "        )\n",
    "    ]\n",
    ")\n",
    "\n",
    "cfg = RESTConfig(protocol=\"v2\", verify=False)\n",
    "client = InferenceRESTClient(cfg)\n",
    "# To get base_url: \n",
    "# oc get isvc dog-breeds-classifier -n modelserving-demo -o jsonpath='{.status.url}'\n",
    "base_url = \"https://dog-breeds-classifier-modelserving-demo.apps.rosa.n1t3u2f3w1s0b1d.kkw2.p3.openshiftapps.com\""
   ]
  },
  {
   "cell_type": "code",
   "execution_count": null,
   "id": "0c4218f7-d9dc-4ea6-a989-6693c53b6594",
   "metadata": {},
   "outputs": [
    {
     "name": "stdout",
     "output_type": "stream",
     "text": [
      "Raw response:  \"id\": \"898f3528-6503-4579-8ba1-dba0dfb651a8\",\"model_name\": \"dog-breeds-classifier\",\"outputs\": [\"name\": \"495\",\"shape\": [1, 133],\"datatype\": \"FP32\",\"data\": [-13.9765625, -9.15625, -9.8984375, -6.9765625, -16.75, -14.6640625, -6.42578125, -5.94921875, -13.75, -8.9609375, -9.0, -12.453125, -11.59375, 4.0703125, -10.84375, -8.671875, -13.3046875, -13.9765625, -12.2421875, -8.6796875, -14.8203125, -13.8828125, -18.671875, -15.9453125, -14.8203125, -15.2109375, -11.859375, -12.90625, -16.0, -13.9375, -8.1171875, -8.1953125, -16.328125, -5.31640625, -15.21875, -14.6953125, -11.25, -14.265625, -3.70703125, -10.796875, -11.15625, -11.328125, -0.53271484375, -11.0703125, -7.90234375, -12.953125, -12.078125, -6.59375, -5.58984375, -10.1875, -13.7109375, -16.5, -13.5390625, -8.6484375, -12.859375, -11.09375, -12.0859375, -16.859375, -8.3984375, -9.0546875, -11.640625, -16.125, -10.078125, -15.4453125, -10.5703125, -18.5, -7.34765625, -15.0859375, -10.2109375, -4.4375, -14.296875, -10.875, -12.7890625, -14.9921875, -12.8125, -13.8984375, -17.234375, -8.328125, -16.0, -9.3515625, -1.3798828125, -15.8671875, -1.2939453125, -9.421875, -13.6328125, -12.4296875, -8.8125, -14.359375, -9.359375, -0.7265625, -13.8125, -18.25, -12.4765625, -15.9921875, -13.7109375, -11.3515625, -7.31640625, -17.484375, -15.546875, -13.453125, -15.25, -7.0078125, -12.7265625, -11.4296875, -16.15625, -19.734375, -13.109375, -9.328125, -12.09375, -9.625, -11.0390625, -10.6328125, -15.6640625, -14.8828125, -12.671875, -2.99609375, -16.609375, -8.140625, -12.3828125, -4.2265625, -10.703125, -6.8671875, -12.4453125, -7.5, -14.0859375, -18.65625, -10.4140625, -3.83984375, -16.0625, -9.4375, -14.359375, -9.125, -15.15625],\"parameters\": None],\"parameters\": None,\"from_grpc\": False\n",
      "Detected class: 014.Basenji\n"
     ]
    }
   ],
   "source": [
    "infer_response = await client.infer(\n",
    "    base_url,\n",
    "    request,\n",
    "    request.model_name,\n",
    "    is_graph_endpoint=False\n",
    ")\n",
    "det_class = dog_breeds_classes[np.argmax(infer_response.outputs[0].data)]\n",
    "print(\"Raw response: \", infer_response)\n",
    "print(f\"Detected class: {det_class}\")"
   ]
  }
 ],
 "metadata": {
  "kernelspec": {
   "display_name": "Python 3.11",
   "language": "python",
   "name": "python3"
  },
  "language_info": {
   "codemirror_mode": {
    "name": "ipython",
    "version": 3
   },
   "file_extension": ".py",
   "mimetype": "text/x-python",
   "name": "python",
   "nbconvert_exporter": "python",
   "pygments_lexer": "ipython3",
   "version": "3.11.9"
  }
 },
 "nbformat": 4,
 "nbformat_minor": 5
}
