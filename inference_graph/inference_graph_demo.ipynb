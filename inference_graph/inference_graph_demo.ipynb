{
 "cells": [
  {
   "cell_type": "code",
   "execution_count": null,
   "id": "c77de656",
   "metadata": {},
   "outputs": [],
   "source": [
    "pip install kserve"
   ]
  },
  {
   "cell_type": "code",
   "execution_count": null,
   "id": "37270222",
   "metadata": {},
   "outputs": [],
   "source": [
    "from kserve import RESTConfig, InferenceRESTClient, InferRequest, InferInput\n",
    "from PIL import Image\n",
    "import matplotlib.pyplot as plt\n",
    "from torchvision import datasets, transforms\n",
    "from random import randrange\n",
    "import numpy as np\n",
    "import os\n",
    "import json\n",
    "import requests"
   ]
  },
  {
   "cell_type": "code",
   "execution_count": null,
   "id": "0f952be4",
   "metadata": {},
   "outputs": [],
   "source": [
    "# Assuming dataset is already downloaded from the basic demo"
   ]
  },
  {
   "cell_type": "code",
   "execution_count": null,
   "id": "3f185cd5",
   "metadata": {},
   "outputs": [],
   "source": [
    "# Dataset\n",
    "ds_dog_breeds_path = \"./dog-breeds-dataset\"\n",
    "test_ds_dog_breeds_path = os.path.join(ds_dog_breeds_path, \"test\")\n",
    "ds_dog_breeds = datasets.ImageFolder(test_ds_dog_breeds_path)\n",
    "dog_breeds_classes = ds_dog_breeds.find_classes(test_ds_dog_breeds_path)[0]\n",
    "\n",
    "print(f\"Classes dog_breeds_classifier: {dog_breeds_classes}\")"
   ]
  },
  {
   "cell_type": "code",
   "execution_count": null,
   "id": "2a496656",
   "metadata": {},
   "outputs": [],
   "source": [
    "# Show sample image\n",
    "fig = plt.figure(figsize=(1, 1))\n",
    "sample_idx = randrange(len(ds_dog_breeds))\n",
    "\n",
    "img, label = ds_dog_breeds[sample_idx]\n",
    "fig.add_subplot(1, 1, 1)\n",
    "\n",
    "plt.title(dog_breeds_classes[label])\n",
    "plt.axis(\"off\")\n",
    "plt.imshow(img)\n",
    "plt.show()# Dataset\n",
    "ds_dog_breeds_path = \"./dog-breeds-dataset\"\n",
    "test_ds_dog_breeds_path = os.path.join(ds_dog_breeds_path, \"test\")\n",
    "ds_dog_breeds = datasets.ImageFolder(test_ds_dog_breeds_path)\n",
    "dog_breeds_classes = ds_dog_breeds.find_classes(test_ds_dog_breeds_path)[0]\n",
    "\n",
    "print(f\"Classes dog_breeds_classifier: {dog_breeds_classes}\")\n",
    "\n",
    "img_array = np.array(img.convert('RGB'))\n",
    "\n",
    "if img_array.ndim == 3:\n",
    "    img_array = np.expand_dims(img_array, axis=0)  # Add batch dimension\n",
    "print(img_array.shape)"
   ]
  },
  {
   "cell_type": "code",
   "execution_count": null,
   "id": "33c36bd8",
   "metadata": {},
   "outputs": [],
   "source": [
    "# Inference\n",
    "model_name = \"dog-poem-pipeline\" # The name of the graph\n",
    "request = InferRequest(\n",
    "    model_name=model_name,\n",
    "    \n",
    "    # This 'infer_inputs' block is for the first step (dog-breeds-classifier).\n",
    "    infer_inputs=[\n",
    "        InferInput(\n",
    "            name=\"data\",\n",
    "            shape=list(img_array.shape),\n",
    "            datatype=\"FP32\",\n",
    "            data=img_array.tolist()\n",
    "        )\n",
    "    ],\n",
    "    \n",
    "    # This 'parameters' block will be passed to your TopicPromptBuilder transformer.\n",
    "    parameters={\n",
    "        \"class_labels\": dog_breeds_classes,\n",
    "        \"initial_prompt\": \"Write a fun poem\",\n",
    "        \"target_model_name\": \"vllm-llama3-8b\"\n",
    "    }\n",
    ")\n",
    "#    You can get this with: oc get ig dog-poem-pipeline -o jsonpath='{.status.url}'\n",
    "base_url = \"https://dog-poem-pipeline-modelserving-demo.apps.rosa.n1t3u2f3w1s0b1d.kkw2.p3.openshiftapps.com\""
   ]
  },
  {
   "cell_type": "code",
   "execution_count": null,
   "id": "04dd8582",
   "metadata": {},
   "outputs": [],
   "source": [
    "cfg = RESTConfig(verify=False)\n",
    "client = InferenceRESTClient(cfg)\n",
    "\n",
    "infer_response = await client.infer(\n",
    "    base_url,\n",
    "    request,\n",
    "    model_name=request.model_name,\n",
    "    is_graph_endpoint=True\n",
    ")\n",
    "\n",
    "print(\"\\n--- Final Response from Graph ---\")\n",
    "print(infer_response)"
   ]
  }
 ],
 "metadata": {
  "language_info": {
   "name": "python"
  }
 },
 "nbformat": 4,
 "nbformat_minor": 5
}
